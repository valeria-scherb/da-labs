{
 "cells": [
  {
   "cell_type": "markdown",
   "metadata": {
    "collapsed": true,
    "pycharm": {
     "name": "#%% md\n"
    }
   },
   "source": [
    "# Лабораторна робота 5\n",
    "## Глибокі генеративні моделі\n",
    "### Щербакова Валерія, ФІ-71\n",
    "Part 1 dataset: https://www.manythings.org/anki/ (Russian - English rus-eng.zip (438015))"
   ]
  },
  {
   "cell_type": "code",
   "execution_count": 23,
   "outputs": [],
   "source": [
    "import random, string, re, numpy as np, tensorflow as tf, codecs, matplotlib.pyplot as plt\n",
    "from tensorflow import keras\n",
    "from keras import layers\n",
    "from keras.layers import TextVectorization"
   ],
   "metadata": {
    "collapsed": false,
    "pycharm": {
     "name": "#%%\n"
    }
   }
  },
  {
   "cell_type": "markdown",
   "source": [
    "# 1. Генерація послідовностей\n",
    "\n",
    "Вирішіть завдання генерації послідовностей (архітектура за вашим вибором: seq2seq на основі RNN, або RNN+TeacherForcing, або **Transformer**)\n",
    "Для навчання можно сгенерувати синтетічні дані (часові ряди), або (що краще) **взяти датасети для машинного перекладу**\n",
    "\n",
    "Я використовую датасет для машинного перекладу на російську мову та архітектуру Transformer~~s~~.\n",
    "\n",
    "![Transformer](transformer.jpg \"Transformer\")\n",
    "\n",
    "Російська мова взята у зв'язку з великим розміром датасету та можливістю легко зрозуміти наскільки коректний переклад."
   ],
   "metadata": {
    "collapsed": false,
    "pycharm": {
     "name": "#%% md\n"
    }
   }
  },
  {
   "cell_type": "code",
   "execution_count": 3,
   "outputs": [],
   "source": [
    "text_file = \"rus.txt\"\n",
    "with open(text_file, encoding='utf-8') as f:\n",
    "    lines = f.read().split(\"\\n\")[:-1]\n",
    "text_pairs = []\n",
    "for line in lines:\n",
    "    eng, rus, trash = line.split(\"\\t\")\n",
    "    rus = \"[start] \" + rus + \" [end]\"\n",
    "    text_pairs.append((eng, rus))"
   ],
   "metadata": {
    "collapsed": false,
    "pycharm": {
     "name": "#%%\n"
    }
   }
  },
  {
   "cell_type": "code",
   "execution_count": 4,
   "outputs": [
    {
     "name": "stdout",
     "output_type": "stream",
     "text": [
      "('Can you give me another example?', '[start] Вы можете привести мне другой пример? [end]')\n",
      "('\"I am not tired.\" \"Neither am I.\"', '[start] \"Я не устал\". - \"Я тоже\". [end]')\n",
      "('He fought against racial discrimination.', '[start] Он боролся против расовой дискриминации. [end]')\n",
      "('Your birthday is coming.', '[start] Приближается твой день рождения. [end]')\n",
      "(\"You've got my vote.\", '[start] Я отдам свой голос за вас. [end]')\n"
     ]
    }
   ],
   "source": [
    "for _ in range(5):\n",
    "    print(random.choice(text_pairs))"
   ],
   "metadata": {
    "collapsed": false,
    "pycharm": {
     "name": "#%%\n"
    }
   }
  },
  {
   "cell_type": "code",
   "execution_count": 5,
   "outputs": [
    {
     "name": "stdout",
     "output_type": "stream",
     "text": [
      "438015 total pairs\n",
      "306611 training pairs\n",
      "65702 validation pairs\n",
      "65702 test pairs\n"
     ]
    }
   ],
   "source": [
    "random.shuffle(text_pairs)\n",
    "num_val_samples = int(0.15 * len(text_pairs))\n",
    "num_train_samples = len(text_pairs) - 2 * num_val_samples\n",
    "train_pairs = text_pairs[:num_train_samples]\n",
    "val_pairs = text_pairs[num_train_samples : num_train_samples + num_val_samples]\n",
    "test_pairs = text_pairs[num_train_samples + num_val_samples :]\n",
    "\n",
    "print(f\"{len(text_pairs)} total pairs\")\n",
    "print(f\"{len(train_pairs)} training pairs\")\n",
    "print(f\"{len(val_pairs)} validation pairs\")\n",
    "print(f\"{len(test_pairs)} test pairs\")"
   ],
   "metadata": {
    "collapsed": false,
    "pycharm": {
     "name": "#%%\n"
    }
   }
  },
  {
   "cell_type": "code",
   "execution_count": 6,
   "outputs": [],
   "source": [
    "strip_chars = string.punctuation\n",
    "strip_chars = strip_chars.replace(\"[\", \"\")\n",
    "strip_chars = strip_chars.replace(\"]\", \"\")\n",
    "\n",
    "vocab_size = 15000\n",
    "sequence_length = 20\n",
    "batch_size = 64\n",
    "\n",
    "def custom_standardization(input_string):\n",
    "    lowercase = tf.strings.lower(input_string)\n",
    "    return tf.strings.regex_replace(lowercase, \"[%s]\" % re.escape(strip_chars), \"\")\n",
    "\n",
    "eng_vectorization = TextVectorization(\n",
    "    max_tokens=vocab_size, output_mode=\"int\", output_sequence_length=sequence_length,\n",
    ")\n",
    "\n",
    "rus_vectorization = TextVectorization(\n",
    "    max_tokens=vocab_size,\n",
    "    output_mode=\"int\",\n",
    "    output_sequence_length=sequence_length + 1,\n",
    "    standardize=custom_standardization,\n",
    ")\n",
    "\n",
    "train_eng_texts = [pair[0] for pair in train_pairs]\n",
    "train_rus_texts = [pair[1] for pair in train_pairs]\n",
    "\n",
    "eng_vectorization.adapt(train_eng_texts)\n",
    "rus_vectorization.adapt(train_rus_texts)"
   ],
   "metadata": {
    "collapsed": false,
    "pycharm": {
     "name": "#%%\n"
    }
   }
  },
  {
   "cell_type": "code",
   "execution_count": 8,
   "outputs": [],
   "source": [
    "def format_dataset(eng, rus):\n",
    "    eng = eng_vectorization(eng)\n",
    "    rus = rus_vectorization(rus)\n",
    "    return {\"encoder_inputs\": eng, \"decoder_inputs\": rus[:, :-1],}, rus[:, 1:]\n",
    "\n",
    "\n",
    "def make_dataset(pairs):\n",
    "    eng_texts, rus_texts = zip(*pairs)\n",
    "    eng_texts = list(eng_texts)\n",
    "    rus_texts = list(rus_texts)\n",
    "    dataset = tf.data.Dataset.from_tensor_slices((eng_texts, rus_texts))\n",
    "    dataset = dataset.batch(batch_size)\n",
    "    dataset = dataset.map(format_dataset)\n",
    "    return dataset.shuffle(2048).prefetch(16).cache()\n",
    "\n",
    "\n",
    "train_ds = make_dataset(train_pairs)\n",
    "val_ds = make_dataset(val_pairs)"
   ],
   "metadata": {
    "collapsed": false,
    "pycharm": {
     "name": "#%%\n"
    }
   }
  },
  {
   "cell_type": "code",
   "execution_count": 9,
   "outputs": [
    {
     "name": "stdout",
     "output_type": "stream",
     "text": [
      "inputs[\"encoder_inputs\"].shape: (64, 20)\n",
      "inputs[\"decoder_inputs\"].shape: (64, 20)\n",
      "targets.shape: (64, 20)\n"
     ]
    }
   ],
   "source": [
    "for inputs, targets in train_ds.take(1):\n",
    "    print(f'inputs[\"encoder_inputs\"].shape: {inputs[\"encoder_inputs\"].shape}')\n",
    "    print(f'inputs[\"decoder_inputs\"].shape: {inputs[\"decoder_inputs\"].shape}')\n",
    "    print(f\"targets.shape: {targets.shape}\")"
   ],
   "metadata": {
    "collapsed": false,
    "pycharm": {
     "name": "#%%\n"
    }
   }
  },
  {
   "cell_type": "code",
   "execution_count": 10,
   "outputs": [],
   "source": [
    "class TransformerEncoder(layers.Layer):\n",
    "    def __init__(self, embed_dim, dense_dim, num_heads, **kwargs):\n",
    "        super(TransformerEncoder, self).__init__(**kwargs)\n",
    "        self.embed_dim = embed_dim\n",
    "        self.dense_dim = dense_dim\n",
    "        self.num_heads = num_heads\n",
    "        self.attention = layers.MultiHeadAttention(\n",
    "            num_heads=num_heads, key_dim=embed_dim\n",
    "        )\n",
    "        self.dense_proj = keras.Sequential(\n",
    "            [layers.Dense(dense_dim, activation=\"relu\"), layers.Dense(embed_dim),]\n",
    "        )\n",
    "        self.layernorm_1 = layers.LayerNormalization()\n",
    "        self.layernorm_2 = layers.LayerNormalization()\n",
    "        self.supports_masking = True\n",
    "\n",
    "    def call(self, inputs, mask=None):\n",
    "        if mask is not None:\n",
    "            padding_mask = tf.cast(mask[:, tf.newaxis, tf.newaxis, :], dtype=\"int32\")\n",
    "        attention_output = self.attention(\n",
    "            query=inputs, value=inputs, key=inputs, attention_mask=padding_mask\n",
    "        )\n",
    "        proj_input = self.layernorm_1(inputs + attention_output)\n",
    "        proj_output = self.dense_proj(proj_input)\n",
    "        return self.layernorm_2(proj_input + proj_output)\n",
    "\n",
    "\n",
    "class PositionalEmbedding(layers.Layer):\n",
    "    def __init__(self, sequence_length, vocab_size, embed_dim, **kwargs):\n",
    "        super(PositionalEmbedding, self).__init__(**kwargs)\n",
    "        self.token_embeddings = layers.Embedding(\n",
    "            input_dim=vocab_size, output_dim=embed_dim\n",
    "        )\n",
    "        self.position_embeddings = layers.Embedding(\n",
    "            input_dim=sequence_length, output_dim=embed_dim\n",
    "        )\n",
    "        self.sequence_length = sequence_length\n",
    "        self.vocab_size = vocab_size\n",
    "        self.embed_dim = embed_dim\n",
    "\n",
    "    def call(self, inputs):\n",
    "        length = tf.shape(inputs)[-1]\n",
    "        positions = tf.range(start=0, limit=length, delta=1)\n",
    "        embedded_tokens = self.token_embeddings(inputs)\n",
    "        embedded_positions = self.position_embeddings(positions)\n",
    "        return embedded_tokens + embedded_positions\n",
    "\n",
    "    def compute_mask(self, inputs, mask=None):\n",
    "        return tf.math.not_equal(inputs, 0)\n",
    "\n",
    "\n",
    "class TransformerDecoder(layers.Layer):\n",
    "    def __init__(self, embed_dim, latent_dim, num_heads, **kwargs):\n",
    "        super(TransformerDecoder, self).__init__(**kwargs)\n",
    "        self.embed_dim = embed_dim\n",
    "        self.latent_dim = latent_dim\n",
    "        self.num_heads = num_heads\n",
    "        self.attention_1 = layers.MultiHeadAttention(\n",
    "            num_heads=num_heads, key_dim=embed_dim\n",
    "        )\n",
    "        self.attention_2 = layers.MultiHeadAttention(\n",
    "            num_heads=num_heads, key_dim=embed_dim\n",
    "        )\n",
    "        self.dense_proj = keras.Sequential(\n",
    "            [layers.Dense(latent_dim, activation=\"relu\"), layers.Dense(embed_dim),]\n",
    "        )\n",
    "        self.layernorm_1 = layers.LayerNormalization()\n",
    "        self.layernorm_2 = layers.LayerNormalization()\n",
    "        self.layernorm_3 = layers.LayerNormalization()\n",
    "        self.supports_masking = True\n",
    "\n",
    "    def call(self, inputs, encoder_outputs, mask=None):\n",
    "        causal_mask = self.get_causal_attention_mask(inputs)\n",
    "        if mask is not None:\n",
    "            padding_mask = tf.cast(mask[:, tf.newaxis, :], dtype=\"int32\")\n",
    "            padding_mask = tf.minimum(padding_mask, causal_mask)\n",
    "\n",
    "        attention_output_1 = self.attention_1(\n",
    "            query=inputs, value=inputs, key=inputs, attention_mask=causal_mask\n",
    "        )\n",
    "        out_1 = self.layernorm_1(inputs + attention_output_1)\n",
    "\n",
    "        attention_output_2 = self.attention_2(\n",
    "            query=out_1,\n",
    "            value=encoder_outputs,\n",
    "            key=encoder_outputs,\n",
    "            attention_mask=padding_mask,\n",
    "        )\n",
    "        out_2 = self.layernorm_2(out_1 + attention_output_2)\n",
    "\n",
    "        proj_output = self.dense_proj(out_2)\n",
    "        return self.layernorm_3(out_2 + proj_output)\n",
    "\n",
    "    def get_causal_attention_mask(self, inputs):\n",
    "        input_shape = tf.shape(inputs)\n",
    "        batch_size, sequence_length = input_shape[0], input_shape[1]\n",
    "        i = tf.range(sequence_length)[:, tf.newaxis]\n",
    "        j = tf.range(sequence_length)\n",
    "        mask = tf.cast(i >= j, dtype=\"int32\")\n",
    "        mask = tf.reshape(mask, (1, input_shape[1], input_shape[1]))\n",
    "        mult = tf.concat(\n",
    "            [tf.expand_dims(batch_size, -1), tf.constant([1, 1], dtype=tf.int32)],\n",
    "            axis=0,\n",
    "        )\n",
    "        return tf.tile(mask, mult)"
   ],
   "metadata": {
    "collapsed": false,
    "pycharm": {
     "name": "#%%\n"
    }
   }
  },
  {
   "cell_type": "code",
   "execution_count": 11,
   "outputs": [],
   "source": [
    "embed_dim = 256\n",
    "latent_dim = 2048\n",
    "num_heads = 8\n",
    "\n",
    "encoder_inputs = keras.Input(shape=(None,), dtype=\"int64\", name=\"encoder_inputs\")\n",
    "x = PositionalEmbedding(sequence_length, vocab_size, embed_dim)(encoder_inputs)\n",
    "encoder_outputs = TransformerEncoder(embed_dim, latent_dim, num_heads)(x)\n",
    "encoder = keras.Model(encoder_inputs, encoder_outputs)\n",
    "\n",
    "decoder_inputs = keras.Input(shape=(None,), dtype=\"int64\", name=\"decoder_inputs\")\n",
    "encoded_seq_inputs = keras.Input(shape=(None, embed_dim), name=\"decoder_state_inputs\")\n",
    "x = PositionalEmbedding(sequence_length, vocab_size, embed_dim)(decoder_inputs)\n",
    "x = TransformerDecoder(embed_dim, latent_dim, num_heads)(x, encoded_seq_inputs)\n",
    "x = layers.Dropout(0.5)(x)\n",
    "decoder_outputs = layers.Dense(vocab_size, activation=\"softmax\")(x)\n",
    "decoder = keras.Model([decoder_inputs, encoded_seq_inputs], decoder_outputs)\n",
    "\n",
    "decoder_outputs = decoder([decoder_inputs, encoder_outputs])\n",
    "transformer = keras.Model(\n",
    "    [encoder_inputs, decoder_inputs], decoder_outputs, name=\"transformer\"\n",
    ")"
   ],
   "metadata": {
    "collapsed": false,
    "pycharm": {
     "name": "#%%\n"
    }
   }
  },
  {
   "cell_type": "code",
   "execution_count": 19,
   "outputs": [
    {
     "name": "stdout",
     "output_type": "stream",
     "text": [
      "Model: \"transformer\"\n",
      "__________________________________________________________________________________________________\n",
      " Layer (type)                   Output Shape         Param #     Connected to                     \n",
      "==================================================================================================\n",
      " encoder_inputs (InputLayer)    [(None, None)]       0           []                               \n",
      "                                                                                                  \n",
      " positional_embedding (Position  (None, None, 256)   3845120     ['encoder_inputs[0][0]']         \n",
      " alEmbedding)                                                                                     \n",
      "                                                                                                  \n",
      " decoder_inputs (InputLayer)    [(None, None)]       0           []                               \n",
      "                                                                                                  \n",
      " transformer_encoder (Transform  (None, None, 256)   3155456     ['positional_embedding[0][0]']   \n",
      " erEncoder)                                                                                       \n",
      "                                                                                                  \n",
      " model_1 (Functional)           (None, None, 15000)  12959640    ['decoder_inputs[0][0]',         \n",
      "                                                                  'transformer_encoder[0][0]']    \n",
      "                                                                                                  \n",
      "==================================================================================================\n",
      "Total params: 19,960,216\n",
      "Trainable params: 19,960,216\n",
      "Non-trainable params: 0\n",
      "__________________________________________________________________________________________________\n",
      "Epoch 1/80\n",
      "4791/4791 [==============================] - 282s 58ms/step - loss: 1.0212 - accuracy: 0.6153 - val_loss: 0.9461 - val_accuracy: 0.6430\n",
      "Epoch 2/80\n",
      "4791/4791 [==============================] - 281s 59ms/step - loss: 0.9811 - accuracy: 0.6414 - val_loss: 0.9250 - val_accuracy: 0.6570\n",
      "Epoch 3/80\n",
      "4791/4791 [==============================] - 279s 58ms/step - loss: 0.9593 - accuracy: 0.6551 - val_loss: 0.9067 - val_accuracy: 0.6662\n",
      "Epoch 4/80\n",
      "4791/4791 [==============================] - 278s 58ms/step - loss: 0.9393 - accuracy: 0.6645 - val_loss: 0.8943 - val_accuracy: 0.6723\n",
      "Epoch 5/80\n",
      "4791/4791 [==============================] - 278s 58ms/step - loss: 0.9219 - accuracy: 0.6718 - val_loss: 0.8847 - val_accuracy: 0.6764\n",
      "Epoch 6/80\n",
      "4791/4791 [==============================] - 278s 58ms/step - loss: 0.9062 - accuracy: 0.6778 - val_loss: 0.8756 - val_accuracy: 0.6801\n",
      "Epoch 7/80\n",
      "4791/4791 [==============================] - 278s 58ms/step - loss: 0.8922 - accuracy: 0.6831 - val_loss: 0.8666 - val_accuracy: 0.6832\n",
      "Epoch 8/80\n",
      "4791/4791 [==============================] - 278s 58ms/step - loss: 0.8813 - accuracy: 0.6878 - val_loss: 0.8589 - val_accuracy: 0.6852\n",
      "Epoch 9/80\n",
      "4791/4791 [==============================] - 279s 58ms/step - loss: 0.8708 - accuracy: 0.6912 - val_loss: 0.8604 - val_accuracy: 0.6876\n",
      "Epoch 10/80\n",
      "4791/4791 [==============================] - 281s 59ms/step - loss: 0.8618 - accuracy: 0.6945 - val_loss: 0.8555 - val_accuracy: 0.6874\n",
      "Epoch 11/80\n",
      "4791/4791 [==============================] - 281s 59ms/step - loss: 0.8554 - accuracy: 0.6971 - val_loss: 0.8596 - val_accuracy: 0.6854\n",
      "Epoch 12/80\n",
      "4791/4791 [==============================] - 277s 58ms/step - loss: 0.8484 - accuracy: 0.6994 - val_loss: 0.8483 - val_accuracy: 0.6884\n",
      "Epoch 13/80\n",
      "4791/4791 [==============================] - 275s 57ms/step - loss: 0.8432 - accuracy: 0.7013 - val_loss: 0.8517 - val_accuracy: 0.6905\n",
      "Epoch 14/80\n",
      "4791/4791 [==============================] - 275s 57ms/step - loss: 0.8367 - accuracy: 0.7039 - val_loss: 0.8471 - val_accuracy: 0.6926\n",
      "Epoch 15/80\n",
      "4791/4791 [==============================] - 274s 57ms/step - loss: 0.8308 - accuracy: 0.7059 - val_loss: 0.8466 - val_accuracy: 0.6921\n",
      "Epoch 16/80\n",
      "4791/4791 [==============================] - 274s 57ms/step - loss: 0.8254 - accuracy: 0.7084 - val_loss: 0.8405 - val_accuracy: 0.6941\n",
      "Epoch 17/80\n",
      "4791/4791 [==============================] - 275s 57ms/step - loss: 0.8182 - accuracy: 0.7105 - val_loss: 0.8408 - val_accuracy: 0.6950\n",
      "Epoch 18/80\n",
      "4791/4791 [==============================] - 276s 58ms/step - loss: 0.8158 - accuracy: 0.7121 - val_loss: 0.8427 - val_accuracy: 0.6950\n",
      "Epoch 19/80\n",
      "4791/4791 [==============================] - 276s 58ms/step - loss: 0.8086 - accuracy: 0.7144 - val_loss: 0.8468 - val_accuracy: 0.6925\n",
      "Epoch 20/80\n",
      "4791/4791 [==============================] - 275s 57ms/step - loss: 0.8055 - accuracy: 0.7158 - val_loss: 0.8392 - val_accuracy: 0.6966\n",
      "Epoch 21/80\n",
      "4791/4791 [==============================] - 275s 57ms/step - loss: 0.8011 - accuracy: 0.7173 - val_loss: 0.8396 - val_accuracy: 0.6970\n",
      "Epoch 22/80\n",
      "4791/4791 [==============================] - 275s 57ms/step - loss: 0.7958 - accuracy: 0.7191 - val_loss: 0.8454 - val_accuracy: 0.6952\n",
      "Epoch 23/80\n",
      "4791/4791 [==============================] - 275s 58ms/step - loss: 0.7954 - accuracy: 0.7198 - val_loss: 0.8402 - val_accuracy: 0.6976\n",
      "Epoch 24/80\n",
      "4791/4791 [==============================] - 275s 57ms/step - loss: 0.7901 - accuracy: 0.7218 - val_loss: 0.8417 - val_accuracy: 0.6960\n",
      "Epoch 25/80\n",
      "4791/4791 [==============================] - 275s 57ms/step - loss: 0.7868 - accuracy: 0.7229 - val_loss: 0.8447 - val_accuracy: 0.6977\n",
      "Epoch 26/80\n",
      "4791/4791 [==============================] - 276s 58ms/step - loss: 0.7858 - accuracy: 0.7237 - val_loss: 0.8426 - val_accuracy: 0.6965\n",
      "Epoch 27/80\n",
      "4791/4791 [==============================] - 278s 58ms/step - loss: 0.7806 - accuracy: 0.7252 - val_loss: 0.8374 - val_accuracy: 0.6963\n",
      "Epoch 28/80\n",
      "4791/4791 [==============================] - 277s 58ms/step - loss: 0.7792 - accuracy: 0.7259 - val_loss: 0.8448 - val_accuracy: 0.6969\n",
      "Epoch 29/80\n",
      "4791/4791 [==============================] - 276s 58ms/step - loss: 0.7768 - accuracy: 0.7271 - val_loss: 0.8432 - val_accuracy: 0.6971\n",
      "Epoch 30/80\n",
      "4791/4791 [==============================] - 276s 58ms/step - loss: 0.7725 - accuracy: 0.7281 - val_loss: 0.8448 - val_accuracy: 0.6986\n",
      "Epoch 31/80\n",
      "4791/4791 [==============================] - 276s 58ms/step - loss: 0.7719 - accuracy: 0.7287 - val_loss: 0.8438 - val_accuracy: 0.6975\n",
      "Epoch 32/80\n",
      "4791/4791 [==============================] - 276s 58ms/step - loss: 0.7689 - accuracy: 0.7297 - val_loss: 0.8434 - val_accuracy: 0.6973\n",
      "Epoch 33/80\n",
      "4791/4791 [==============================] - 275s 58ms/step - loss: 0.7655 - accuracy: 0.7305 - val_loss: 0.8388 - val_accuracy: 0.7008\n",
      "Epoch 34/80\n",
      "4791/4791 [==============================] - 277s 58ms/step - loss: 0.7656 - accuracy: 0.7311 - val_loss: 0.8494 - val_accuracy: 0.6975\n",
      "Epoch 35/80\n",
      "4791/4791 [==============================] - 276s 58ms/step - loss: 0.7631 - accuracy: 0.7322 - val_loss: 0.8458 - val_accuracy: 0.6960\n",
      "Epoch 36/80\n",
      "4791/4791 [==============================] - 277s 58ms/step - loss: 0.7588 - accuracy: 0.7333 - val_loss: 0.8431 - val_accuracy: 0.6961\n",
      "Epoch 37/80\n",
      "4791/4791 [==============================] - 276s 58ms/step - loss: 0.7597 - accuracy: 0.7335 - val_loss: 0.8476 - val_accuracy: 0.6979\n",
      "Epoch 38/80\n",
      "4791/4791 [==============================] - 276s 58ms/step - loss: 0.7570 - accuracy: 0.7343 - val_loss: 0.8403 - val_accuracy: 0.6996\n",
      "Epoch 39/80\n",
      "4791/4791 [==============================] - 276s 58ms/step - loss: 0.7540 - accuracy: 0.7347 - val_loss: 0.8446 - val_accuracy: 0.7006\n",
      "Epoch 40/80\n",
      "4791/4791 [==============================] - 277s 58ms/step - loss: 0.7549 - accuracy: 0.7356 - val_loss: 0.8441 - val_accuracy: 0.7033\n",
      "Epoch 41/80\n",
      "4791/4791 [==============================] - 277s 58ms/step - loss: 0.7522 - accuracy: 0.7360 - val_loss: 0.8509 - val_accuracy: 0.6979\n",
      "Epoch 42/80\n",
      "4791/4791 [==============================] - 275s 57ms/step - loss: 0.7488 - accuracy: 0.7369 - val_loss: 0.8382 - val_accuracy: 0.7006\n",
      "Epoch 43/80\n",
      "4791/4791 [==============================] - 277s 58ms/step - loss: 0.7506 - accuracy: 0.7370 - val_loss: 0.8451 - val_accuracy: 0.7020\n",
      "Epoch 44/80\n",
      "4791/4791 [==============================] - 277s 58ms/step - loss: 0.7483 - accuracy: 0.7374 - val_loss: 0.8449 - val_accuracy: 0.7007\n",
      "Epoch 45/80\n",
      "4791/4791 [==============================] - 277s 58ms/step - loss: 0.7452 - accuracy: 0.7381 - val_loss: 0.8349 - val_accuracy: 0.7014\n",
      "Epoch 46/80\n",
      "4791/4791 [==============================] - 277s 58ms/step - loss: 0.7473 - accuracy: 0.7381 - val_loss: 0.8504 - val_accuracy: 0.6973\n",
      "Epoch 47/80\n",
      "4791/4791 [==============================] - 276s 58ms/step - loss: 0.7454 - accuracy: 0.7383 - val_loss: 0.8423 - val_accuracy: 0.6999\n",
      "Epoch 48/80\n",
      "4791/4791 [==============================] - 276s 58ms/step - loss: 0.7432 - accuracy: 0.7392 - val_loss: 0.8489 - val_accuracy: 0.7008\n",
      "Epoch 49/80\n",
      "4791/4791 [==============================] - 276s 58ms/step - loss: 0.7433 - accuracy: 0.7398 - val_loss: 0.8444 - val_accuracy: 0.7017\n",
      "Epoch 50/80\n",
      "4791/4791 [==============================] - 276s 58ms/step - loss: 0.7427 - accuracy: 0.7394 - val_loss: 0.8505 - val_accuracy: 0.6994\n",
      "Epoch 51/80\n",
      "4791/4791 [==============================] - 276s 58ms/step - loss: 0.7401 - accuracy: 0.7405 - val_loss: 0.8418 - val_accuracy: 0.6998\n",
      "Epoch 52/80\n",
      "4791/4791 [==============================] - 277s 58ms/step - loss: 0.7402 - accuracy: 0.7409 - val_loss: 0.8462 - val_accuracy: 0.7020\n",
      "Epoch 53/80\n",
      "4791/4791 [==============================] - 276s 58ms/step - loss: 0.7400 - accuracy: 0.7409 - val_loss: 0.8532 - val_accuracy: 0.7004\n",
      "Epoch 54/80\n",
      "4791/4791 [==============================] - 277s 58ms/step - loss: 0.7365 - accuracy: 0.7416 - val_loss: 0.8410 - val_accuracy: 0.7020\n",
      "Epoch 55/80\n",
      "4791/4791 [==============================] - 277s 58ms/step - loss: 0.7366 - accuracy: 0.7416 - val_loss: 0.8569 - val_accuracy: 0.6993\n",
      "Epoch 56/80\n",
      "4791/4791 [==============================] - 276s 58ms/step - loss: 0.7371 - accuracy: 0.7419 - val_loss: 0.8659 - val_accuracy: 0.6946\n",
      "Epoch 57/80\n",
      "4791/4791 [==============================] - 276s 58ms/step - loss: 0.7350 - accuracy: 0.7423 - val_loss: 0.8474 - val_accuracy: 0.7009\n",
      "Epoch 58/80\n",
      "4791/4791 [==============================] - 276s 58ms/step - loss: 0.7334 - accuracy: 0.7427 - val_loss: 0.8598 - val_accuracy: 0.6993\n",
      "Epoch 59/80\n",
      "4791/4791 [==============================] - 276s 58ms/step - loss: 0.7360 - accuracy: 0.7428 - val_loss: 0.8552 - val_accuracy: 0.6971\n",
      "Epoch 60/80\n",
      "4791/4791 [==============================] - 277s 58ms/step - loss: 0.7343 - accuracy: 0.7424 - val_loss: 0.8592 - val_accuracy: 0.6927\n",
      "Epoch 61/80\n",
      "4791/4791 [==============================] - 277s 58ms/step - loss: 0.7325 - accuracy: 0.7430 - val_loss: 0.8560 - val_accuracy: 0.6981\n",
      "Epoch 62/80\n",
      "4791/4791 [==============================] - 276s 58ms/step - loss: 0.7344 - accuracy: 0.7430 - val_loss: 0.8474 - val_accuracy: 0.7012\n",
      "Epoch 63/80\n",
      "4791/4791 [==============================] - 276s 58ms/step - loss: 0.7338 - accuracy: 0.7429 - val_loss: 0.8540 - val_accuracy: 0.7023\n",
      "Epoch 64/80\n",
      "4791/4791 [==============================] - 277s 58ms/step - loss: 0.7319 - accuracy: 0.7431 - val_loss: 0.8567 - val_accuracy: 0.7006\n",
      "Epoch 65/80\n",
      "4791/4791 [==============================] - 276s 58ms/step - loss: 0.7336 - accuracy: 0.7431 - val_loss: 0.8545 - val_accuracy: 0.6993\n",
      "Epoch 66/80\n",
      "4791/4791 [==============================] - 276s 58ms/step - loss: 0.7340 - accuracy: 0.7429 - val_loss: 0.8576 - val_accuracy: 0.6991\n",
      "Epoch 67/80\n",
      "4791/4791 [==============================] - 276s 58ms/step - loss: 0.7320 - accuracy: 0.7434 - val_loss: 0.8470 - val_accuracy: 0.7027\n",
      "Epoch 68/80\n",
      "4791/4791 [==============================] - 276s 58ms/step - loss: 0.7314 - accuracy: 0.7435 - val_loss: 0.8606 - val_accuracy: 0.7006\n",
      "Epoch 69/80\n",
      "4791/4791 [==============================] - 276s 58ms/step - loss: 0.7337 - accuracy: 0.7432 - val_loss: 0.8535 - val_accuracy: 0.6970\n",
      "Epoch 70/80\n",
      "4791/4791 [==============================] - 276s 58ms/step - loss: 0.7311 - accuracy: 0.7436 - val_loss: 0.8549 - val_accuracy: 0.6934\n",
      "Epoch 71/80\n",
      "4791/4791 [==============================] - 276s 58ms/step - loss: 0.7297 - accuracy: 0.7439 - val_loss: 0.8481 - val_accuracy: 0.7011\n",
      "Epoch 72/80\n",
      "4791/4791 [==============================] - 276s 58ms/step - loss: 0.7327 - accuracy: 0.7438 - val_loss: 0.8552 - val_accuracy: 0.7008\n",
      "Epoch 73/80\n",
      "4791/4791 [==============================] - 276s 58ms/step - loss: 0.7305 - accuracy: 0.7439 - val_loss: 0.8608 - val_accuracy: 0.6958\n",
      "Epoch 74/80\n",
      "4791/4791 [==============================] - 277s 58ms/step - loss: 0.7289 - accuracy: 0.7442 - val_loss: 0.8502 - val_accuracy: 0.7015\n",
      "Epoch 75/80\n",
      "4791/4791 [==============================] - 277s 58ms/step - loss: 0.7309 - accuracy: 0.7441 - val_loss: 0.8643 - val_accuracy: 0.7014\n",
      "Epoch 76/80\n",
      "4791/4791 [==============================] - 276s 58ms/step - loss: 0.7306 - accuracy: 0.7442 - val_loss: 0.8572 - val_accuracy: 0.6969\n",
      "Epoch 77/80\n",
      "4791/4791 [==============================] - 277s 58ms/step - loss: 0.7290 - accuracy: 0.7440 - val_loss: 0.8505 - val_accuracy: 0.6977\n",
      "Epoch 78/80\n",
      "4791/4791 [==============================] - 276s 58ms/step - loss: 0.7297 - accuracy: 0.7440 - val_loss: 0.8660 - val_accuracy: 0.7006\n",
      "Epoch 79/80\n",
      "4791/4791 [==============================] - 276s 58ms/step - loss: 0.7306 - accuracy: 0.7445 - val_loss: 0.8567 - val_accuracy: 0.6982\n",
      "Epoch 80/80\n",
      "4791/4791 [==============================] - 277s 58ms/step - loss: 0.7284 - accuracy: 0.7445 - val_loss: 0.8608 - val_accuracy: 0.6939\n"
     ]
    }
   ],
   "source": [
    "epochs = 80  # This should be at least 30 for convergence\n",
    "# ~ 300 s = 5 min per epoch, 90 -> 6 hours 40 mins + validation ~ 7 hours\n",
    "\n",
    "transformer.summary()\n",
    "transformer.compile(\n",
    "    \"rmsprop\", loss=\"sparse_categorical_crossentropy\", metrics=[\"accuracy\"]\n",
    ")\n",
    "history = transformer.fit(train_ds, epochs=epochs, validation_data=val_ds)"
   ],
   "metadata": {
    "collapsed": false,
    "pycharm": {
     "name": "#%%\n"
    }
   }
  },
  {
   "cell_type": "code",
   "execution_count": 24,
   "outputs": [
    {
     "data": {
      "text/plain": "<Figure size 432x288 with 1 Axes>",
      "image/png": "[encoded data removed]"
     },
     "metadata": {
      "needs_background": "light"
     },
     "output_type": "display_data"
    }
   ],
   "source": [
    "hist = history.history\n",
    "x = range(1, len(hist['loss']) + 1)\n",
    "\n",
    "plt.plot(x, hist['loss'], 'r', label='Train loss')\n",
    "plt.plot(x, hist['accuracy'], 'g', label='Train accuracy')\n",
    "plt.plot(x, hist['val_loss'], 'm', label='Validation loss')\n",
    "plt.plot(x, hist['val_accuracy'], 'c', label='Validation accuracy')\n",
    "plt.title('Fitting metrics')\n",
    "plt.xlabel('Epoch')\n",
    "plt.legend()\n",
    "plt.grid()\n",
    "plt.show()"
   ],
   "metadata": {
    "collapsed": false,
    "pycharm": {
     "name": "#%%\n"
    }
   }
  },
  {
   "cell_type": "code",
   "execution_count": 28,
   "outputs": [
    {
     "name": "stdout",
     "output_type": "stream",
     "text": [
      "Just wait for us here. -> [start] Просто ___ нас здесь [end]\n",
      "Are you sure you just want water? -> [start] Ты точно хочешь только воды [end]\n",
      "Tom went straight to the post office. -> [start] Том пошёл на ___ ___ ___ [end]\n",
      "I won't bother you again. -> [start] Я вас больше не ___ [end]\n",
      "Does it hurt? -> [start] Это один свитер [end]\n",
      "We're closer than we've ever been. -> [start] Мы ___ ___ [end]\n",
      "Tom still owes Mary 2,000 dollars. -> [start] Том всё ещё должен ___ из ___ Том [end]\n",
      "Tom raked in money during the war. -> [start] Том ___ в ___ у ___ в ___ [end]\n",
      "Tom isn't the only person that can do that. -> [start] Том не единственный кто может это сделать [end]\n",
      "I don't like taking risks. -> [start] Я не люблю ___ [end]\n",
      "You need to pay your bills on time. -> [start] Вам нужно заплатить по Тому время [end]\n",
      "We want time. -> [start] Нам нужно время [end]\n",
      "Why were you wearing a jacket? -> [start] Почему ты был в ___ [end]\n",
      "Tom knows how to play the viola. -> [start] Том умеет играть на ___ в ___ [end]\n",
      "Tom might be here somewhere, but I haven't seen him. -> [start] Том может быть здесь почти но я его не видел [end]\n",
      "He told me to do it, so I did it. -> [start] Он сказал мне это сделать я так что сделал [end]\n",
      "Tom left everything to his three grandsons. -> [start] Том оставил всё что ему ___ ___ [end]\n",
      "You may choose whichever you like. -> [start] Можешь починить ___ ___ ___ [end]\n",
      "Show me the money. -> [start] Покажи мне деньги [end]\n",
      "Tom was very boring. -> [start] Том был очень ___ [end]\n",
      "I found him kind. -> [start] Мне он ___ [end]\n",
      "Tom is on the same team that I'm on. -> [start] Мы с Томом в том же ___ моя проблема что в том что и [end]\n",
      "Why didn't Tom tell Mary about this? -> [start] Почему Том не сказал об этом Тому [end]\n",
      "He began to work for that company last year. -> [start] Он начал работать на этой стране в прошлом году [end]\n",
      "You and I have other fish to fry. -> [start] В ___ с ___ ___ ___ [end]\n",
      "I suspect that Tom didn't do that. -> [start] оба это Том не делал [end]\n",
      "Do you think we'll win? -> [start] Думаешь мы ___ [end]\n",
      "That isn't what I was talking about. -> [start] Я не о том что я говорил [end]\n",
      "Don't do anything other than this. -> [start] Не делают ничего от Тома [end]\n",
      "I know that you're a vegetarian. -> [start] Я знаю что ты ___ [end]\n"
     ]
    }
   ],
   "source": [
    "codecs.register_error(\"strict\", codecs.ignore_errors)\n",
    "\n",
    "rus_vocab = rus_vectorization.get_vocabulary()\n",
    "rus_index_lookup = dict(zip(range(len(rus_vocab)), rus_vocab))\n",
    "max_decoded_sentence_length = 20\n",
    "\n",
    "\n",
    "def decode_sequence(input_sentence):\n",
    "    tokenized_input_sentence = eng_vectorization([input_sentence])\n",
    "    decoded_sentence = \"[start]\"\n",
    "    for i in range(max_decoded_sentence_length):\n",
    "        tokenized_target_sentence = rus_vectorization([decoded_sentence])[:, :-1]\n",
    "        predictions = transformer([tokenized_input_sentence, tokenized_target_sentence])\n",
    "\n",
    "        sampled_token_index = np.argmax(predictions[0, i, :])\n",
    "        sampled_token = rus_index_lookup[sampled_token_index]\n",
    "        decoded_sentence += \" \" + sampled_token\n",
    "\n",
    "        if sampled_token == \"[end]\":\n",
    "            break\n",
    "    return decoded_sentence\n",
    "\n",
    "\n",
    "test_eng_texts = [pair[0] for pair in test_pairs]\n",
    "for _ in range(30):\n",
    "    input_sentence = random.choice(test_eng_texts)\n",
    "    translated = decode_sequence(input_sentence)\n",
    "    print(input_sentence + ' -> ' + translated.replace('[UNK]', '___'))"
   ],
   "metadata": {
    "collapsed": false,
    "pycharm": {
     "name": "#%%\n"
    }
   }
  },
  {
   "cell_type": "markdown",
   "source": [
    "Звісно вийшов не гугл транслейт, але результати досить цікаві. Також по графікам видно що після 20-25 епохи подальше навчання не має сенсу оскільки метрики на перевірочній вибірці не покращуються. Я вибрала таку кількість епох бо залишала підрахунок на ніч щоб я могла проспостерігати цю динаміку.\n",
    "\n",
    "Для покращення перекладу, можливо, слід збільшувати розмірності мережі та розмір словника, проте, мережа й так дуже довго навчалася, тому, я вважаю, для лабораторної роботи результати досить непогані."
   ],
   "metadata": {
    "collapsed": false,
    "pycharm": {
     "name": "#%% md\n"
    }
   }
  },
  {
   "cell_type": "markdown",
   "source": [
    "# 2. Генерація зображень\n",
    "Вирішіть завдання генерації зображень (архітектура за вашим вибором: GAN/DCGAN/VAE/CVAE), якщо в обраному датасеті багато класів, залиште декілька\n",
    "\n",
    "# Реалізовано в іншому файлі: [Laba5-2.ipynb]()."
   ],
   "metadata": {
    "collapsed": false,
    "pycharm": {
     "name": "#%% md\n"
    }
   }
  }
 ],
 "metadata": {
  "kernelspec": {
   "display_name": "Python 3",
   "language": "python",
   "name": "python3"
  },
  "language_info": {
   "codemirror_mode": {
    "name": "ipython",
    "version": 2
   },
   "file_extension": ".py",
   "mimetype": "text/x-python",
   "name": "python",
   "nbconvert_exporter": "python",
   "pygments_lexer": "ipython2",
   "version": "2.7.6"
  }
 },
 "nbformat": 4,
 "nbformat_minor": 0
}